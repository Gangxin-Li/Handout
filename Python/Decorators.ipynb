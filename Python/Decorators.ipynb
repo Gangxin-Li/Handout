{
  "cells": [
    {
      "cell_type": "markdown",
      "metadata": {
        "id": "ygb5UvRH6PVL"
      },
      "source": [
        "# Class Decorators"
      ]
    },
    {
      "cell_type": "markdown",
      "metadata": {
        "id": "C3of4mWZ6PVN"
      },
      "source": [
        "## Introduction\n",
        ">Decorators are very useful tools for organising code. A decorator is a function that is used to add functionality to a function, method, or even class. \n",
        "\n",
        "In this notebook, we will explore the most common and useful decorators. Note that since some decorators were covered in previous notebooks, we will not go over them in detail here."
      ]
    },
    {
      "cell_type": "markdown",
      "metadata": {
        "id": "B-Y_F2Mo6PVO"
      },
      "source": [
        "## Class Methods"
      ]
    },
    {
      "cell_type": "markdown",
      "metadata": {
        "id": "uXMRN0qi6PVO"
      },
      "source": [
        "Class methods are methods that can be called from a class, rather than an instance. By now, you should be familiar with pandas and how to read a dictionary."
      ]
    },
    {
      "cell_type": "code",
      "execution_count": null,
      "metadata": {
        "colab": {
          "base_uri": "https://localhost:8080/"
        },
        "id": "eSQyjM0Q6PVO",
        "outputId": "df713c1c-de41-4276-bcb6-900bdb4d770d"
      },
      "outputs": [
        {
          "name": "stdout",
          "output_type": "stream",
          "text": [
            "     Name Last Name  Age\n",
            "0    Rick   Sanchez   70\n",
            "1   Morty     Smith   14\n",
            "2  Summer     Smith   17\n"
          ]
        }
      ],
      "source": [
        "import pandas as pd\n",
        "my_dict = {'Name': ['Rick', 'Morty', 'Summer'], 'Last Name': ['Sanchez', 'Smith', 'Smith'], 'Age': [70, 14, 17]}\n",
        "df = pd.DataFrame.from_dict(my_dict)\n",
        "print(df)"
      ]
    },
    {
      "cell_type": "markdown",
      "metadata": {
        "id": "FEOX_E4-6PVP"
      },
      "source": [
        "`DataFrame` is a class and not an instance; however, a method can be called from it. This is because `from_dict` is a class method. Class methods are very useful for creating an instance if you know that the user may have different data types when creating the instance. Additionally, they are very helpful for creating an instance whose initial values are known.\n",
        "\n",
        "> Class methods are methods that are called from a class rather than an instance."
      ]
    },
    {
      "cell_type": "markdown",
      "metadata": {
        "id": "OX0R4XDq6PVP"
      },
      "source": [
        "To implement a class method, we use the __decorator,__ @classmethod."
      ]
    },
    {
      "cell_type": "code",
      "execution_count": null,
      "metadata": {
        "id": "u6qdF7i66PVP"
      },
      "outputs": [],
      "source": [
        "from datetime import datetime\n",
        "\n",
        "class Date(object):\n",
        "\n",
        "    def __init__(self, day=0, month=0, year=0):\n",
        "        self.day = day\n",
        "        self.month = month\n",
        "        self.year = year\n",
        "    \n",
        "    def display(self):\n",
        "        return \"{}/{}/{}\".format(self.day, self.month, self.year)\n",
        "\n",
        "    @classmethod\n",
        "    def now(cls):\n",
        "        t = datetime.now()\n",
        "        day = t.day\n",
        "        month = t.month\n",
        "        year = t.year\n",
        "        return cls(day, month, year)\n",
        "        \n",
        "    @classmethod\n",
        "    def from_string(cls, date_as_string):\n",
        "        day, month, year = map(int, date_as_string.split('-'))\n",
        "        date1 = Date(day, month, year)\n",
        "        return date1"
      ]
    },
    {
      "cell_type": "code",
      "execution_count": null,
      "metadata": {
        "colab": {
          "base_uri": "https://localhost:8080/"
        },
        "id": "vQHtW3L66PVP",
        "outputId": "326b9519-0ef6-44c2-88fc-36f67334b577"
      },
      "outputs": [
        {
          "name": "stdout",
          "output_type": "stream",
          "text": [
            "12\n"
          ]
        }
      ],
      "source": [
        "date = Date.now()\n",
        "date.display()\n",
        "print(date.day)"
      ]
    },
    {
      "cell_type": "code",
      "execution_count": null,
      "metadata": {
        "colab": {
          "base_uri": "https://localhost:8080/",
          "height": 35
        },
        "id": "c-1w9xTo6PVQ",
        "outputId": "6e5a851c-4bc1-4578-d955-cd9f76ec14d2"
      },
      "outputs": [
        {
          "data": {
            "application/vnd.google.colaboratory.intrinsic+json": {
              "type": "string"
            },
            "text/plain": [
              "'17/8/2021'"
            ]
          },
          "execution_count": 43,
          "metadata": {},
          "output_type": "execute_result"
        }
      ],
      "source": [
        "date_2 = Date.from_string('17-08-2021')\n",
        "date_2.display()"
      ]
    },
    {
      "cell_type": "code",
      "execution_count": null,
      "metadata": {
        "colab": {
          "base_uri": "https://localhost:8080/"
        },
        "id": "CEnJv3dq6PVQ",
        "outputId": "6343621c-4f1f-4f6e-e826-8917f87e8ed2"
      },
      "outputs": [
        {
          "name": "stdout",
          "output_type": "stream",
          "text": [
            "Help on class classmethod in module builtins:\n",
            "\n",
            "class classmethod(object)\n",
            " |  classmethod(function) -> method\n",
            " |  \n",
            " |  Convert a function to be a class method.\n",
            " |  \n",
            " |  A class method receives the class as implicit first argument,\n",
            " |  just like an instance method receives the instance.\n",
            " |  To declare a class method, use this idiom:\n",
            " |  \n",
            " |    class C:\n",
            " |        @classmethod\n",
            " |        def f(cls, arg1, arg2, ...):\n",
            " |            ...\n",
            " |  \n",
            " |  It can be called either on the class (e.g. C.f()) or on an instance\n",
            " |  (e.g. C().f()).  The instance is ignored except for its class.\n",
            " |  If a class method is called for a derived class, the derived class\n",
            " |  object is passed as the implied first argument.\n",
            " |  \n",
            " |  Class methods are different than C++ or Java static methods.\n",
            " |  If you want those, see the staticmethod builtin.\n",
            " |  \n",
            " |  Methods defined here:\n",
            " |  \n",
            " |  __get__(self, instance, owner, /)\n",
            " |      Return an attribute of instance, which is of type owner.\n",
            " |  \n",
            " |  __init__(self, /, *args, **kwargs)\n",
            " |      Initialize self.  See help(type(self)) for accurate signature.\n",
            " |  \n",
            " |  ----------------------------------------------------------------------\n",
            " |  Static methods defined here:\n",
            " |  \n",
            " |  __new__(*args, **kwargs) from builtins.type\n",
            " |      Create and return a new object.  See help(type) for accurate signature.\n",
            " |  \n",
            " |  ----------------------------------------------------------------------\n",
            " |  Data descriptors defined here:\n",
            " |  \n",
            " |  __dict__\n",
            " |  \n",
            " |  __func__\n",
            " |  \n",
            " |  __isabstractmethod__\n",
            "\n"
          ]
        }
      ],
      "source": [
        "help(__builtins__.classmethod)"
      ]
    },
    {
      "cell_type": "markdown",
      "metadata": {
        "id": "zl2rZ_l_6PVQ"
      },
      "source": [
        "Notice that for class methods, the first argument is the class itself, as opposed to the case in regular methods, whose first argument is the instance.\n",
        "\n",
        "The `now` class method is an example of a class method where the expected arguments are known prior.\n",
        "\n",
        "The `from_string` class method is an example of a class method where we know that the user might provide a different data type for the arguments.\n",
        "\n",
        "In both cases, the call for the class method skips the `__init__` method, which is usually run first."
      ]
    },
    {
      "cell_type": "code",
      "execution_count": null,
      "metadata": {
        "id": "5Hn8wMf-6PVQ"
      },
      "outputs": [],
      "source": [
        "class Dummy:\n",
        "    def __init__(self):\n",
        "        print('I am running the constructor')\n",
        "    \n",
        "    @classmethod\n",
        "    def dummy_class_method(cls):\n",
        "        print('I am running the class method')"
      ]
    },
    {
      "cell_type": "code",
      "execution_count": null,
      "metadata": {
        "colab": {
          "base_uri": "https://localhost:8080/"
        },
        "id": "LChLvMQG6PVQ",
        "outputId": "4426b456-b49c-4d8c-f4af-fb1d7b8cda7f"
      },
      "outputs": [
        {
          "name": "stdout",
          "output_type": "stream",
          "text": [
            "I am running the class method\n"
          ]
        }
      ],
      "source": [
        "Dummy.dummy_class_method()"
      ]
    },
    {
      "cell_type": "markdown",
      "metadata": {
        "id": "dgOkj_uR6PVQ"
      },
      "source": [
        "Thus, the constructor is actually run inside the class method because we programmed it to do so.\n",
        "\n",
        "Due to their functionality, class methods can help improve the flexibility of code. Simply ensure that the method is properly documented."
      ]
    },
    {
      "cell_type": "markdown",
      "metadata": {
        "id": "wmVpoYUT6PVR"
      },
      "source": [
        "## Static Methods"
      ]
    },
    {
      "cell_type": "markdown",
      "metadata": {
        "id": "HEQjAcet6PVR"
      },
      "source": [
        "Static methods are methods that are not bound to an instance or a class. When a static method is called, it is not necessary to pass an instance or a class. Moreover, they act similarly to regular functions.\n",
        "\n",
        "> Static methods are methods that are not bound to an instance or a class. However, they are called from an instance or a class."
      ]
    },
    {
      "cell_type": "code",
      "execution_count": null,
      "metadata": {
        "id": "HrmcnT5d6PVR"
      },
      "outputs": [],
      "source": [
        "from datetime import datetime\n",
        "\n",
        "class Date(object):\n",
        "\n",
        "    def __init__(self, day=0, month=0, year=0):\n",
        "        self.day = day\n",
        "        self.month = month\n",
        "        self.year = year\n",
        "        print('I am in the constructor')\n",
        "    \n",
        "    def display(self):\n",
        "        return \"{}/{}/{}\".format(self.day, self.month, self.year)\n",
        "\n",
        "    @classmethod\n",
        "    def now(cls):\n",
        "        t = datetime.now()\n",
        "        day = t.day\n",
        "        month = t.month\n",
        "        year = t.year\n",
        "        return cls(day, month, year)\n",
        "        \n",
        "    @classmethod\n",
        "    def from_string(cls, date_as_string):\n",
        "        day, month, year = map(int, date_as_string.split('-'))\n",
        "        date1 = cls(day, month, year)\n",
        "        return date1\n",
        "\n",
        "    @staticmethod\n",
        "    def is_date_valid(date_as_string):\n",
        "        day, month, year = map(int, date_as_string.split('-'))\n",
        "        return day <= 31 and month <= 12 and year <= 3999\n",
        "    \n",
        "    @staticmethod\n",
        "    def is_date_future(date_as_string):\n",
        "        day, month, year = map(int, date_as_string.split('-'))\n",
        "        current_date = datetime.now()\n",
        "        current_year = current_date.year\n",
        "        current_day = current_date.day\n",
        "        current_month = current_date.month\n",
        "        if (current_year < year):\n",
        "            return False\n",
        "        elif (current_year == year):\n",
        "            if (current_day < day):\n",
        "                return False\n",
        "            elif (current_day == day):\n",
        "                if (current_month < month):\n",
        "                    return False\n",
        "        return True"
      ]
    },
    {
      "cell_type": "code",
      "execution_count": null,
      "metadata": {
        "colab": {
          "base_uri": "https://localhost:8080/"
        },
        "id": "wl27FI4s6PVR",
        "outputId": "ad0fc83c-6a9e-4bf3-e2d4-1b5161dc8efc"
      },
      "outputs": [
        {
          "name": "stdout",
          "output_type": "stream",
          "text": [
            "True\n",
            "I am in the constructor\n",
            "12/3/2023\n",
            "False\n"
          ]
        }
      ],
      "source": [
        "print(Date.is_date_future('11-03-2023'))\n",
        "now = Date.now()\n",
        "print(now.display())\n",
        "print(now.is_date_future('14-03-2023'))"
      ]
    },
    {
      "cell_type": "markdown",
      "metadata": {
        "id": "H6ru5TJt6PVR"
      },
      "source": [
        "Observe that the static method does not depend on the instance or the class (we are not using self or cls). However, it must be called from the class or an instance."
      ]
    },
    {
      "cell_type": "markdown",
      "metadata": {
        "id": "v2yVqwjS6PVR"
      },
      "source": [
        "Therefore, static methods apply a type of encapsulation. Whenever you need to access a method related to dates, you can find it in the Date class. \n",
        "\n",
        ">Static methods and class methods promote clean and user-friendly code."
      ]
    },
    {
      "cell_type": "markdown",
      "metadata": {
        "id": "Brb8nRuX6PVR"
      },
      "source": [
        "## Property Decorators"
      ]
    },
    {
      "cell_type": "markdown",
      "metadata": {
        "id": "wcWRZjpa6PVR"
      },
      "source": [
        "Properties decorators add getters and setters for the attributes of a class. Additionally, they are useful for implementing private variables, which, in turn, is a methodology for implementing encapsulation.\n",
        "\n",
        "> Property decorators allow us to keep variables private and add getters and setters for them."
      ]
    },
    {
      "cell_type": "markdown",
      "metadata": {
        "id": "sx9z3EL36PVR"
      },
      "source": [
        "To implement a property decorator, we first define the attribute in the constructor, following which we use the property decorator to define the getter and setter methods."
      ]
    },
    {
      "cell_type": "code",
      "execution_count": null,
      "metadata": {
        "id": "5s8qvP3X6PVR"
      },
      "outputs": [],
      "source": [
        "from datetime import datetime\n",
        "\n",
        "class Date(object):\n",
        "\n",
        "    def __init__(self, day=0, month=0, year=0):\n",
        "        self.day = day\n",
        "        self.month = month\n",
        "        self.year = year\n",
        "\n",
        "    @property\n",
        "    def day(self):\n",
        "        print('Getting day value')\n",
        "        return self.__day\n",
        "    \n",
        "    @property\n",
        "    def month(self):\n",
        "        print('Getting month value')\n",
        "        return self.__month\n",
        "    \n",
        "    @property\n",
        "    def year(self):\n",
        "        print('Getting year value')\n",
        "        return self.__year\n",
        "\n",
        "    def display(self):\n",
        "        return \"{}/{}/{}\".format(self.day, self.month, self.year)\n",
        "\n"
      ]
    },
    {
      "cell_type": "markdown",
      "metadata": {
        "id": "la8hjv3l6PVS"
      },
      "source": [
        "Observe that we need to define a setter to assign values to the attributes. This prevents the user from setting the value of an attribute that is not defined."
      ]
    },
    {
      "cell_type": "code",
      "execution_count": null,
      "metadata": {
        "colab": {
          "base_uri": "https://localhost:8080/",
          "height": 294
        },
        "id": "ntX_fnC96PVS",
        "outputId": "5285f995-1ec9-48f9-a6f2-a02b58e72e33"
      },
      "outputs": [
        {
          "ename": "AttributeError",
          "evalue": "ignored",
          "output_type": "error",
          "traceback": [
            "\u001b[0;31m---------------------------------------------------------------------------\u001b[0m",
            "\u001b[0;31mAttributeError\u001b[0m                            Traceback (most recent call last)",
            "\u001b[0;32m<ipython-input-52-bfa039e2dd65>\u001b[0m in \u001b[0;36m<module>\u001b[0;34m\u001b[0m\n\u001b[0;32m----> 1\u001b[0;31m \u001b[0mday\u001b[0m \u001b[0;34m=\u001b[0m \u001b[0mDate\u001b[0m\u001b[0;34m(\u001b[0m\u001b[0;36m19\u001b[0m\u001b[0;34m,\u001b[0m \u001b[0;36m3\u001b[0m\u001b[0;34m,\u001b[0m \u001b[0;36m2018\u001b[0m\u001b[0;34m)\u001b[0m\u001b[0;34m\u001b[0m\u001b[0;34m\u001b[0m\u001b[0m\n\u001b[0m",
            "\u001b[0;32m<ipython-input-51-5af318d5a93a>\u001b[0m in \u001b[0;36m__init__\u001b[0;34m(self, day, month, year)\u001b[0m\n\u001b[1;32m      4\u001b[0m \u001b[0;34m\u001b[0m\u001b[0m\n\u001b[1;32m      5\u001b[0m     \u001b[0;32mdef\u001b[0m \u001b[0m__init__\u001b[0m\u001b[0;34m(\u001b[0m\u001b[0mself\u001b[0m\u001b[0;34m,\u001b[0m \u001b[0mday\u001b[0m\u001b[0;34m=\u001b[0m\u001b[0;36m0\u001b[0m\u001b[0;34m,\u001b[0m \u001b[0mmonth\u001b[0m\u001b[0;34m=\u001b[0m\u001b[0;36m0\u001b[0m\u001b[0;34m,\u001b[0m \u001b[0myear\u001b[0m\u001b[0;34m=\u001b[0m\u001b[0;36m0\u001b[0m\u001b[0;34m)\u001b[0m\u001b[0;34m:\u001b[0m\u001b[0;34m\u001b[0m\u001b[0;34m\u001b[0m\u001b[0m\n\u001b[0;32m----> 6\u001b[0;31m         \u001b[0mself\u001b[0m\u001b[0;34m.\u001b[0m\u001b[0mday\u001b[0m \u001b[0;34m=\u001b[0m \u001b[0mday\u001b[0m\u001b[0;34m\u001b[0m\u001b[0;34m\u001b[0m\u001b[0m\n\u001b[0m\u001b[1;32m      7\u001b[0m         \u001b[0mself\u001b[0m\u001b[0;34m.\u001b[0m\u001b[0mmonth\u001b[0m \u001b[0;34m=\u001b[0m \u001b[0mmonth\u001b[0m\u001b[0;34m\u001b[0m\u001b[0;34m\u001b[0m\u001b[0m\n\u001b[1;32m      8\u001b[0m         \u001b[0mself\u001b[0m\u001b[0;34m.\u001b[0m\u001b[0myear\u001b[0m \u001b[0;34m=\u001b[0m \u001b[0myear\u001b[0m\u001b[0;34m\u001b[0m\u001b[0;34m\u001b[0m\u001b[0m\n",
            "\u001b[0;31mAttributeError\u001b[0m: can't set attribute"
          ]
        }
      ],
      "source": [
        "day = Date(19, 3, 2018)"
      ]
    },
    {
      "cell_type": "code",
      "execution_count": null,
      "metadata": {
        "id": "xAw5mwbj6PVS"
      },
      "outputs": [],
      "source": [
        "from datetime import datetime\n",
        "\n",
        "class Date(object):\n",
        "\n",
        "    def __init__(self, day=0, month=0, year=0):\n",
        "        self.__day = day\n",
        "        self.month = month\n",
        "        self.year = year\n",
        "\n",
        "    @property\n",
        "    def day(self):\n",
        "        print('Getting day value')\n",
        "        return self.__day\n",
        "    \n",
        "    @day.setter\n",
        "    def day(self, day):\n",
        "        print('Setting day value')\n",
        "        if day < 0:\n",
        "            raise ValueError('Day cannot be negative')\n",
        "        self.__day = day\n",
        "    \n",
        "    @property\n",
        "    def month(self):\n",
        "        print('Getting month value')\n",
        "        return self.__month\n",
        "\n",
        "    @month.setter\n",
        "    def month(self, month):\n",
        "        print('Setting month value')\n",
        "        if month < 0:\n",
        "            raise ValueError('Month cannot be negative')\n",
        "        self.__month = month\n",
        "    \n",
        "    @month.deleter\n",
        "    def month(self):\n",
        "        print('Deleting month value')\n",
        "        del self.__month\n",
        "    \n",
        "    @property\n",
        "    def year(self):\n",
        "        print('Getting year value')\n",
        "        return self.__year\n",
        "    \n",
        "    @year.setter\n",
        "    def year(self, year):\n",
        "        print('Setting year value')\n",
        "        if year < 0:\n",
        "            raise ValueError('Year cannot be negative')\n",
        "        self.__year = year\n",
        "\n",
        "\n",
        "    def display(self):\n",
        "        return \"{}/{}/{}\".format(self.day, self.month, self.year)"
      ]
    },
    {
      "cell_type": "code",
      "execution_count": null,
      "metadata": {
        "colab": {
          "base_uri": "https://localhost:8080/"
        },
        "id": "AeJiOuIJ6PVS",
        "outputId": "6484cd87-80d1-4a2e-d991-adf59b98bdb1"
      },
      "outputs": [
        {
          "name": "stdout",
          "output_type": "stream",
          "text": [
            "Setting month value\n",
            "Setting year value\n",
            "Getting year value\n"
          ]
        },
        {
          "data": {
            "text/plain": [
              "2018"
            ]
          },
          "execution_count": 55,
          "metadata": {},
          "output_type": "execute_result"
        }
      ],
      "source": [
        "day = Date(19, 3, 2018)\n",
        "day.year"
      ]
    },
    {
      "cell_type": "markdown",
      "metadata": {
        "id": "qKZ5XBhs6PVS"
      },
      "source": [
        "Observe that we also included the `.deleter` method. Without it, the attribute cannot be deleted."
      ]
    },
    {
      "cell_type": "code",
      "execution_count": null,
      "metadata": {
        "colab": {
          "base_uri": "https://localhost:8080/"
        },
        "id": "6Vkhzalx6PVS",
        "outputId": "acc544d0-84f9-4d7d-9d13-06ccac126b34"
      },
      "outputs": [
        {
          "name": "stdout",
          "output_type": "stream",
          "text": [
            "Deleting month value\n"
          ]
        }
      ],
      "source": [
        "del day.month"
      ]
    },
    {
      "cell_type": "markdown",
      "metadata": {
        "id": "y5mSAQXG6PVS"
      },
      "source": [
        "## Dataclass"
      ]
    },
    {
      "cell_type": "markdown",
      "metadata": {
        "id": "Aj9pU75G6PVS"
      },
      "source": [
        "Here, we introduce the final decorator: dataclass.\n",
        "\n",
        "This decorator is slightly different from the others. It does not add functionality to the class, but rather, it provides a relatively easy way to create a class. It adds several dunder methods (magic methods) to the class. By default, it will add `__init__`, `__repr__` and `__eq__` methods.\n",
        "\n",
        "> Dataclass makes it easy to create classes by adding a few dunder methods.\n",
        "\n",
        "In this case, the decorator needs to be imported from the dataclass library, and it is used as a decorator on the class."
      ]
    },
    {
      "cell_type": "code",
      "execution_count": null,
      "metadata": {
        "id": "PfgZ0wIp6PVS"
      },
      "outputs": [],
      "source": [
        "from dataclasses import dataclass\n",
        "\n",
        "@dataclass(order=True)\n",
        "class Date:\n",
        "    day: int # First positional argument\n",
        "    month: int\n",
        "    year: int\n"
      ]
    },
    {
      "cell_type": "code",
      "execution_count": null,
      "metadata": {
        "colab": {
          "base_uri": "https://localhost:8080/"
        },
        "id": "x5x3qXYE6PVS",
        "outputId": "5457e4f1-2150-47ab-b032-248ad8a426e7"
      },
      "outputs": [
        {
          "data": {
            "text/plain": [
              "False"
            ]
          },
          "execution_count": 58,
          "metadata": {},
          "output_type": "execute_result"
        }
      ],
      "source": [
        "class Date:\n",
        "    def __init__(self, day, month):\n",
        "        self.day = day\n",
        "        self.month = month\n",
        "    def __eq__(self, other):\n",
        "        return False\n",
        "    def __lt__(self, other):\n",
        "        return self.month < other.month\n",
        "\n",
        "date = Date(9, 4)\n",
        "date_2 = Date(2, 1)\n",
        "\n",
        "date == date_2\n",
        "date < date_2"
      ]
    },
    {
      "cell_type": "code",
      "execution_count": null,
      "metadata": {
        "colab": {
          "base_uri": "https://localhost:8080/"
        },
        "id": "GPm5eUX86PVS",
        "outputId": "13092bc8-f324-4097-b54f-487ff9f73678"
      },
      "outputs": [
        {
          "name": "stdout",
          "output_type": "stream",
          "text": [
            "<__main__.Date object at 0x7f45f7d92940>\n"
          ]
        }
      ],
      "source": [
        "date = Date(1, 2)\n",
        "print(date)\n",
        "# date_2 = Date(1, 2, 2019)\n",
        "# date_2 == date"
      ]
    },
    {
      "cell_type": "markdown",
      "metadata": {
        "id": "Eafq5KCg6PVS"
      },
      "source": [
        "With a simple decorator, we created a class that contains three dunder methods. Moreover, note that we can use the dataclass decorator to add more functionality. For now, this is more than enough to keep our code clean and readable. For more information regarding the dataclass decorator, read the official documentation [here](https://docs.python.org/3/library/dataclasses.html#module-dataclasses)."
      ]
    },
    {
      "cell_type": "markdown",
      "metadata": {
        "id": "uVHUKHia6PVS"
      },
      "source": [
        "## Conclusion\n",
        "\n",
        "At this point, you should have a good understanding of"
      ]
    },
    {
      "cell_type": "markdown",
      "metadata": {
        "id": "TgQQnhz66PVS"
      },
      "source": [
        "- class and static methods.\n",
        "- property and dataclass decorators."
      ]
    }
  ],
  "metadata": {
    "colab": {
      "provenance": []
    },
    "interpreter": {
      "hash": "66a4c1a82e4b740877da9482796a67c3d19e50649dddfb2985c1182127ae3fd0"
    },
    "kernelspec": {
      "display_name": "Python 3.8.11 64-bit ('base': conda)",
      "name": "python3"
    },
    "language_info": {
      "codemirror_mode": {
        "name": "ipython",
        "version": 3
      },
      "file_extension": ".py",
      "mimetype": "text/x-python",
      "name": "python",
      "nbconvert_exporter": "python",
      "pygments_lexer": "ipython3",
      "version": "3.8.11"
    },
    "orig_nbformat": 4
  },
  "nbformat": 4,
  "nbformat_minor": 0
}
